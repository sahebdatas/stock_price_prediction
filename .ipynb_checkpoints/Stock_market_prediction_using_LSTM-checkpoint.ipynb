{
 "cells": [
  {
   "cell_type": "markdown",
   "id": "7b96d700",
   "metadata": {},
   "source": [
    "# 📈 Stock Market Prediction using LSTM (Machine Learning)\n",
    "**Descrption:** This program uses an artificial recurrent neural network called Long Short Term Memory(LSTM) to predict the closing stock price of a corporation, using past 60 days stock price."
   ]
  },
  {
   "cell_type": "code",
   "execution_count": 1,
   "id": "bd0b23df",
   "metadata": {},
   "outputs": [],
   "source": [
    "# Import necessary libraries\n",
    "import pandas_datareader as web\n",
    "import math\n",
    "import numpy as np\n",
    "import pandas as pd\n",
    "from sklearn.preprocessing import MinMaxScaler\n",
    "import matplotlib.pyplot as plt\n",
    "from keras.models import Sequential\n",
    "from keras.layers import Dense,LSTM"
   ]
  },
  {
   "cell_type": "code",
   "execution_count": 2,
   "id": "1bd3d09b",
   "metadata": {},
   "outputs": [],
   "source": [
    "# setting up graph style\n",
    "plt.style.use(\"fivethirtyeight\")"
   ]
  },
  {
   "cell_type": "code",
   "execution_count": 3,
   "id": "e23f8dfc",
   "metadata": {},
   "outputs": [
    {
     "name": "stdout",
     "output_type": "stream",
     "text": [
      "Enter stock name:AAPL\n",
      "Enter stock code:\n"
     ]
    },
    {
     "data": {
      "text/plain": [
       "'AAPL'"
      ]
     },
     "execution_count": 3,
     "metadata": {},
     "output_type": "execute_result"
    }
   ],
   "source": [
    "stock=input(\"Enter stock name:\")\n",
    "code=input(\"Enter stock code:\")\n",
    "if code==\"\":\n",
    "    stock_code=stock\n",
    "else:\n",
    "    stock_code=stock+\".\"+code\n",
    "stock_code=stock_code.upper()\n",
    "stock_code"
   ]
  },
  {
   "cell_type": "markdown",
   "id": "ca567da7",
   "metadata": {},
   "source": [
    "## 1. Data Collection and visualization"
   ]
  },
  {
   "cell_type": "code",
   "execution_count": 4,
   "id": "39089b49",
   "metadata": {},
   "outputs": [],
   "source": [
    "# Fetching data from the internet\n",
    "df= web.DataReader(stock_code, data_source=\"yahoo\", start='2012-01-01', end='2022-04-02')"
   ]
  },
  {
   "cell_type": "code",
   "execution_count": 5,
   "id": "398e3d7f",
   "metadata": {},
   "outputs": [
    {
     "data": {
      "text/html": [
       "<div>\n",
       "<style scoped>\n",
       "    .dataframe tbody tr th:only-of-type {\n",
       "        vertical-align: middle;\n",
       "    }\n",
       "\n",
       "    .dataframe tbody tr th {\n",
       "        vertical-align: top;\n",
       "    }\n",
       "\n",
       "    .dataframe thead th {\n",
       "        text-align: right;\n",
       "    }\n",
       "</style>\n",
       "<table border=\"1\" class=\"dataframe\">\n",
       "  <thead>\n",
       "    <tr style=\"text-align: right;\">\n",
       "      <th></th>\n",
       "      <th>High</th>\n",
       "      <th>Low</th>\n",
       "      <th>Open</th>\n",
       "      <th>Close</th>\n",
       "      <th>Volume</th>\n",
       "      <th>Adj Close</th>\n",
       "    </tr>\n",
       "    <tr>\n",
       "      <th>Date</th>\n",
       "      <th></th>\n",
       "      <th></th>\n",
       "      <th></th>\n",
       "      <th></th>\n",
       "      <th></th>\n",
       "      <th></th>\n",
       "    </tr>\n",
       "  </thead>\n",
       "  <tbody>\n",
       "    <tr>\n",
       "      <th>2012-01-03</th>\n",
       "      <td>14.732143</td>\n",
       "      <td>14.607143</td>\n",
       "      <td>14.621429</td>\n",
       "      <td>14.686786</td>\n",
       "      <td>302220800.0</td>\n",
       "      <td>12.557467</td>\n",
       "    </tr>\n",
       "    <tr>\n",
       "      <th>2012-01-04</th>\n",
       "      <td>14.810000</td>\n",
       "      <td>14.617143</td>\n",
       "      <td>14.642857</td>\n",
       "      <td>14.765714</td>\n",
       "      <td>260022000.0</td>\n",
       "      <td>12.624949</td>\n",
       "    </tr>\n",
       "    <tr>\n",
       "      <th>2012-01-05</th>\n",
       "      <td>14.948214</td>\n",
       "      <td>14.738214</td>\n",
       "      <td>14.819643</td>\n",
       "      <td>14.929643</td>\n",
       "      <td>271269600.0</td>\n",
       "      <td>12.765114</td>\n",
       "    </tr>\n",
       "    <tr>\n",
       "      <th>2012-01-06</th>\n",
       "      <td>15.098214</td>\n",
       "      <td>14.972143</td>\n",
       "      <td>14.991786</td>\n",
       "      <td>15.085714</td>\n",
       "      <td>318292800.0</td>\n",
       "      <td>12.898552</td>\n",
       "    </tr>\n",
       "    <tr>\n",
       "      <th>2012-01-09</th>\n",
       "      <td>15.276786</td>\n",
       "      <td>15.048214</td>\n",
       "      <td>15.196429</td>\n",
       "      <td>15.061786</td>\n",
       "      <td>394024400.0</td>\n",
       "      <td>12.878097</td>\n",
       "    </tr>\n",
       "    <tr>\n",
       "      <th>...</th>\n",
       "      <td>...</td>\n",
       "      <td>...</td>\n",
       "      <td>...</td>\n",
       "      <td>...</td>\n",
       "      <td>...</td>\n",
       "      <td>...</td>\n",
       "    </tr>\n",
       "    <tr>\n",
       "      <th>2022-03-28</th>\n",
       "      <td>175.729996</td>\n",
       "      <td>172.000000</td>\n",
       "      <td>172.169998</td>\n",
       "      <td>175.600006</td>\n",
       "      <td>90371900.0</td>\n",
       "      <td>175.342377</td>\n",
       "    </tr>\n",
       "    <tr>\n",
       "      <th>2022-03-29</th>\n",
       "      <td>179.009995</td>\n",
       "      <td>176.339996</td>\n",
       "      <td>176.690002</td>\n",
       "      <td>178.960007</td>\n",
       "      <td>100589400.0</td>\n",
       "      <td>178.697449</td>\n",
       "    </tr>\n",
       "    <tr>\n",
       "      <th>2022-03-30</th>\n",
       "      <td>179.610001</td>\n",
       "      <td>176.699997</td>\n",
       "      <td>178.550003</td>\n",
       "      <td>177.770004</td>\n",
       "      <td>92633200.0</td>\n",
       "      <td>177.509201</td>\n",
       "    </tr>\n",
       "    <tr>\n",
       "      <th>2022-03-31</th>\n",
       "      <td>178.029999</td>\n",
       "      <td>174.399994</td>\n",
       "      <td>177.839996</td>\n",
       "      <td>174.610001</td>\n",
       "      <td>103049300.0</td>\n",
       "      <td>174.353836</td>\n",
       "    </tr>\n",
       "    <tr>\n",
       "      <th>2022-04-01</th>\n",
       "      <td>174.880005</td>\n",
       "      <td>171.940002</td>\n",
       "      <td>174.029999</td>\n",
       "      <td>174.309998</td>\n",
       "      <td>78751300.0</td>\n",
       "      <td>174.054260</td>\n",
       "    </tr>\n",
       "  </tbody>\n",
       "</table>\n",
       "<p>2580 rows × 6 columns</p>\n",
       "</div>"
      ],
      "text/plain": [
       "                  High         Low        Open       Close       Volume  \\\n",
       "Date                                                                      \n",
       "2012-01-03   14.732143   14.607143   14.621429   14.686786  302220800.0   \n",
       "2012-01-04   14.810000   14.617143   14.642857   14.765714  260022000.0   \n",
       "2012-01-05   14.948214   14.738214   14.819643   14.929643  271269600.0   \n",
       "2012-01-06   15.098214   14.972143   14.991786   15.085714  318292800.0   \n",
       "2012-01-09   15.276786   15.048214   15.196429   15.061786  394024400.0   \n",
       "...                ...         ...         ...         ...          ...   \n",
       "2022-03-28  175.729996  172.000000  172.169998  175.600006   90371900.0   \n",
       "2022-03-29  179.009995  176.339996  176.690002  178.960007  100589400.0   \n",
       "2022-03-30  179.610001  176.699997  178.550003  177.770004   92633200.0   \n",
       "2022-03-31  178.029999  174.399994  177.839996  174.610001  103049300.0   \n",
       "2022-04-01  174.880005  171.940002  174.029999  174.309998   78751300.0   \n",
       "\n",
       "             Adj Close  \n",
       "Date                    \n",
       "2012-01-03   12.557467  \n",
       "2012-01-04   12.624949  \n",
       "2012-01-05   12.765114  \n",
       "2012-01-06   12.898552  \n",
       "2012-01-09   12.878097  \n",
       "...                ...  \n",
       "2022-03-28  175.342377  \n",
       "2022-03-29  178.697449  \n",
       "2022-03-30  177.509201  \n",
       "2022-03-31  174.353836  \n",
       "2022-04-01  174.054260  \n",
       "\n",
       "[2580 rows x 6 columns]"
      ]
     },
     "execution_count": 5,
     "metadata": {},
     "output_type": "execute_result"
    }
   ],
   "source": [
    "# printing the stock DataFrame in tabular format\n",
    "df"
   ]
  },
  {
   "cell_type": "code",
   "execution_count": 6,
   "id": "1183abe5",
   "metadata": {},
   "outputs": [
    {
     "data": {
      "image/png": "[encoded data removed]",
      "text/plain": [
       "<Figure size 1008x432 with 1 Axes>"
      ]
     },
     "metadata": {},
     "output_type": "display_data"
    }
   ],
   "source": [
    "# Plotting and visualizing the Closing price of stock in graphical format\n",
    "plt.rcParams.update({'font.size': 15})\n",
    "plt.figure(figsize=(14,6))\n",
    "df[\"Close\"].plot()\n",
    "plt.title(\"Closing Stock of \"+stock)\n",
    "plt.xlabel(\"Date\")\n",
    "plt.ylabel(\"Close Price INR(₹)\");"
   ]
  },
  {
   "cell_type": "markdown",
   "id": "937e440e",
   "metadata": {},
   "source": [
    "## 2. Pre-Processing Data\n",
    "### 2.1 Feature Engineering"
   ]
  },
  {
   "cell_type": "code",
   "execution_count": 7,
   "id": "ffedf29a",
   "metadata": {},
   "outputs": [
    {
     "data": {
      "text/plain": [
       "2064"
      ]
     },
     "execution_count": 7,
     "metadata": {},
     "output_type": "execute_result"
    }
   ],
   "source": [
    "np.random.seed(42)\n",
    "# Create a dataframe only with closing columns\n",
    "data=df.filter([\"Close\"])\n",
    "# Convert the data into a numpy array\n",
    "dataset=data.values\n",
    "# get the number of row to train the model on\n",
    "training_data_len=math.ceil(len(dataset)*0.8)\n",
    "training_data_len"
   ]
  },
  {
   "cell_type": "code",
   "execution_count": 8,
   "id": "b37210d5",
   "metadata": {},
   "outputs": [
    {
     "data": {
      "text/plain": [
       "array([[0.00439887],\n",
       "       [0.00486851],\n",
       "       [0.00584391],\n",
       "       ...,\n",
       "       [0.97477135],\n",
       "       [0.9559688 ],\n",
       "       [0.95418373]])"
      ]
     },
     "execution_count": 8,
     "metadata": {},
     "output_type": "execute_result"
    }
   ],
   "source": [
    "np.random.seed(42)\n",
    "# scale the data\n",
    "scaler=MinMaxScaler(feature_range=(0,1))\n",
    "scaled_data= scaler.fit_transform(dataset)\n",
    "scaled_data"
   ]
  },
  {
   "cell_type": "markdown",
   "id": "5ce45fc2",
   "metadata": {},
   "source": [
    "### 2.2 Creating Training Dataset"
   ]
  },
  {
   "cell_type": "code",
   "execution_count": 9,
   "id": "8b5283a4",
   "metadata": {},
   "outputs": [
    {
     "name": "stdout",
     "output_type": "stream",
     "text": [
      "[array([0.00439887, 0.00486851, 0.00584391, 0.00677256, 0.00663019,\n",
      "       0.00695107, 0.00680444, 0.00655793, 0.00622217, 0.00726133,\n",
      "       0.00819848, 0.00790947, 0.0063263 , 0.00783722, 0.00634968,\n",
      "       0.01192796, 0.01149658, 0.01205972, 0.01327737, 0.01401476,\n",
      "       0.01395314, 0.01372576, 0.01469479, 0.01560643, 0.01663922,\n",
      "       0.01830739, 0.02181161, 0.02186474, 0.02381555, 0.02527333,\n",
      "       0.0227679 , 0.02373267, 0.02371354, 0.02641875, 0.02603411,\n",
      "       0.026746  , 0.02802528, 0.02873719, 0.03078787, 0.03228178,\n",
      "       0.03271317, 0.03286405, 0.03030973, 0.02969346, 0.02978484,\n",
      "       0.03218616, 0.03286193, 0.03431335, 0.03773469, 0.04229932,\n",
      "       0.04144504, 0.04144716, 0.04474738, 0.04578017, 0.04504489,\n",
      "       0.04437338, 0.04367423, 0.04599691, 0.04759072, 0.04825798])]\n",
      "[0.04660893460974819]\n",
      "\n"
     ]
    }
   ],
   "source": [
    "np.random.seed(42)\n",
    "# Creating Scaled Training dataset\n",
    "train_data= scaled_data[0:training_data_len,:]\n",
    "# Split the data into x_train and y_train for training dataset\n",
    "x_train=[]\n",
    "y_train=[]\n",
    "\n",
    "for i in range(60, len(train_data)):\n",
    "    x_train.append(train_data[i-60:i,0])\n",
    "    y_train.append(train_data[i,0])\n",
    "    if i<=60:\n",
    "        print(x_train)\n",
    "        print(y_train)\n",
    "        print()"
   ]
  },
  {
   "cell_type": "code",
   "execution_count": 10,
   "id": "7c562ec0",
   "metadata": {},
   "outputs": [
    {
     "data": {
      "text/plain": [
       "((2004, 60), (2004,))"
      ]
     },
     "execution_count": 10,
     "metadata": {},
     "output_type": "execute_result"
    }
   ],
   "source": [
    "np.random.seed(42)\n",
    "x_train,y_train=np.array(x_train),np.array(y_train)\n",
    "x_train.shape,y_train.shape"
   ]
  },
  {
   "cell_type": "markdown",
   "id": "202d2063",
   "metadata": {},
   "source": [
    "### 2.3 Reshaping Data\n",
    "**Note:** An LSTM Algo expect the data to be in 3D format- `[(no. of sample), (no. of time step), (no. of features)]`"
   ]
  },
  {
   "cell_type": "code",
   "execution_count": 11,
   "id": "deeb41aa",
   "metadata": {},
   "outputs": [
    {
     "data": {
      "text/plain": [
       "(2004, 60, 1)"
      ]
     },
     "execution_count": 11,
     "metadata": {},
     "output_type": "execute_result"
    }
   ],
   "source": [
    "np.random.seed(42)\n",
    "# Reshape the data\n",
    "np.random.seed(42)\n",
    "x_train=np.reshape(x_train, (x_train.shape[0], x_train.shape[1], 1))\n",
    "x_train.shape "
   ]
  },
  {
   "cell_type": "markdown",
   "id": "ff2404e5",
   "metadata": {},
   "source": [
    "## 3. Modelling\n",
    "### 3.1 Setting up LSTM model"
   ]
  },
  {
   "cell_type": "code",
   "execution_count": 12,
   "id": "56478cc1",
   "metadata": {},
   "outputs": [],
   "source": [
    "np.random.seed(42)\n",
    "# Build the LSTM Model\n",
    "np.random.seed(42)\n",
    "model=Sequential()\n",
    "model.add(LSTM(50, return_sequences=True, input_shape=(x_train.shape[1],1)))\n",
    "model.add(LSTM(50, return_sequences=False))\n",
    "model.add(Dense(25))\n",
    "model.add(Dense(1))"
   ]
  },
  {
   "cell_type": "code",
   "execution_count": 13,
   "id": "deb56234",
   "metadata": {},
   "outputs": [],
   "source": [
    "np.random.seed(42)\n",
    "# compile the model\n",
    "np.random.seed(42)\n",
    "model.compile(optimizer='adam', loss='mean_squared_error')"
   ]
  },
  {
   "cell_type": "code",
   "execution_count": 14,
   "id": "4302b89d",
   "metadata": {},
   "outputs": [
    {
     "name": "stdout",
     "output_type": "stream",
     "text": [
      "2004/2004 [==============================] - 50s 23ms/step - loss: 2.2493e-04\n",
      "Wall time: 50.1 s\n"
     ]
    },
    {
     "data": {
      "text/plain": [
       "<keras.callbacks.History at 0x1d8ad6afc40>"
      ]
     },
     "execution_count": 14,
     "metadata": {},
     "output_type": "execute_result"
    }
   ],
   "source": [
    "%%time\n",
    "np.random.seed(42)\n",
    "# Train the model\n",
    "model.fit(x_train,y_train,batch_size=1,epochs=1)"
   ]
  },
  {
   "cell_type": "markdown",
   "id": "217beff4",
   "metadata": {},
   "source": [
    "### 3.2 Setting up test data "
   ]
  },
  {
   "cell_type": "code",
   "execution_count": 15,
   "id": "334889cd",
   "metadata": {},
   "outputs": [],
   "source": [
    "np.random.seed(42)\n",
    "# create the test dataset\n",
    "# create a new array containing scaled values from index= training data has ended, to the length of the collected data\n",
    "test_data= scaled_data[training_data_len-60:,:]\n",
    "# create the dataset x_test, y_test\n",
    "x_test=[]\n",
    "y_test=dataset[training_data_len:,:]\n",
    "for i in range(60, len(test_data)):\n",
    "    x_test.append(test_data[i-60:i,0])"
   ]
  },
  {
   "cell_type": "code",
   "execution_count": 16,
   "id": "41b933e8",
   "metadata": {},
   "outputs": [],
   "source": [
    "# convert the data into numpy array\n",
    "x_test,y_test=np.array(x_test),np.array(y_test)"
   ]
  },
  {
   "cell_type": "code",
   "execution_count": 17,
   "id": "9fa52481",
   "metadata": {},
   "outputs": [],
   "source": [
    "# Reshape the data\n",
    "x_test = np.reshape(x_test,(x_test.shape[0],x_test.shape[1],1))"
   ]
  },
  {
   "cell_type": "code",
   "execution_count": 18,
   "id": "d42f657e",
   "metadata": {},
   "outputs": [],
   "source": [
    "# Get the model predicted price value\n",
    "predictions= model.predict(x_test)\n",
    "predictions= scaler.inverse_transform(predictions)"
   ]
  },
  {
   "cell_type": "markdown",
   "id": "4fedf7aa",
   "metadata": {},
   "source": [
    "## 4. Model Evaluation\n",
    "### 4.1 Calculating Loss/Error using Root Mean Squared Error (RMSE)"
   ]
  },
  {
   "cell_type": "code",
   "execution_count": 19,
   "id": "0ddf77bf",
   "metadata": {},
   "outputs": [
    {
     "data": {
      "text/plain": [
       "2.3701685676278994"
      ]
     },
     "execution_count": 19,
     "metadata": {},
     "output_type": "execute_result"
    }
   ],
   "source": [
    "rmse=np.sqrt(np.mean(predictions-y_test)**2)\n",
    "rmse"
   ]
  },
  {
   "cell_type": "markdown",
   "id": "962a08b7",
   "metadata": {},
   "source": [
    "### 4.2 Calculating Accuracy using R-Square metrics "
   ]
  },
  {
   "cell_type": "code",
   "execution_count": 32,
   "id": "e91b0df4",
   "metadata": {},
   "outputs": [
    {
     "data": {
      "text/plain": [
       "0.9742076775030625"
      ]
     },
     "execution_count": 32,
     "metadata": {},
     "output_type": "execute_result"
    }
   ],
   "source": [
    "from sklearn.metrics import r2_score\n",
    "# Model Accuracy\n",
    "r2_score(y_test,predictions)"
   ]
  },
  {
   "cell_type": "markdown",
   "id": "72a2ba43",
   "metadata": {},
   "source": [
    "### 4.3 Visualizing model performance"
   ]
  },
  {
   "cell_type": "code",
   "execution_count": 20,
   "id": "2e030356",
   "metadata": {},
   "outputs": [
    {
     "name": "stderr",
     "output_type": "stream",
     "text": [
      "C:\\Users\\SAHEBM~1\\AppData\\Local\\Temp/ipykernel_16112/3278632836.py:4: SettingWithCopyWarning: \n",
      "A value is trying to be set on a copy of a slice from a DataFrame.\n",
      "Try using .loc[row_indexer,col_indexer] = value instead\n",
      "\n",
      "See the caveats in the documentation: https://pandas.pydata.org/pandas-docs/stable/user_guide/indexing.html#returning-a-view-versus-a-copy\n",
      "  valid[\"predictions\"]=predictions\n"
     ]
    },
    {
     "data": {
      "image/png": "[encoded data removed]",
      "text/plain": [
       "<Figure size 1008x576 with 1 Axes>"
      ]
     },
     "metadata": {},
     "output_type": "display_data"
    }
   ],
   "source": [
    "# plot the data\n",
    "train=data[:training_data_len]\n",
    "valid=data[training_data_len:]\n",
    "valid[\"predictions\"]=predictions\n",
    "\n",
    "# Visualizing the data\n",
    "plt.figure(figsize=(14,8))\n",
    "plt.title('Model Performance')\n",
    "plt.xlabel(\"Date\")\n",
    "plt.ylabel(\"Close Price INR(₹)\")\n",
    "plt.plot(train[\"Close\"])\n",
    "plt.plot(valid[[\"Close\", \"predictions\"]])\n",
    "plt.legend([\"Train\",\"Actual\",\"Predictions\"], loc=\"lower right\");"
   ]
  },
  {
   "cell_type": "markdown",
   "id": "9df034a3",
   "metadata": {},
   "source": [
    "## 5. Model Deployment"
   ]
  },
  {
   "cell_type": "code",
   "execution_count": 37,
   "id": "fa55c434",
   "metadata": {},
   "outputs": [
    {
     "name": "stdout",
     "output_type": "stream",
     "text": [
      "Predicted Stock Price is: ₹ 145.31723\n"
     ]
    }
   ],
   "source": [
    "#Get the quote\n",
    "\n",
    "df_quote=web.DataReader(stock_code, data_source='yahoo', start='2012-01-01', end=\"2022-06-09\")\n",
    "\n",
    "#Create a new dataframe\n",
    "\n",
    "new_df = df_quote.filter(['Close'])\n",
    "\n",
    "#Get teh last 60 day closing price values and convert the dataframe to an array\n",
    "\n",
    "last_60_days = new_df[-60:].values\n",
    "\n",
    "#Scale the data to be values between 0 and 1\n",
    "\n",
    "last_60_days_scaled = scaler.transform(last_60_days)\n",
    "\n",
    "#Create an empty list\n",
    "\n",
    "X_test=[]\n",
    "\n",
    "#Append teh past 60 days\n",
    "\n",
    "X_test.append(last_60_days_scaled)\n",
    "\n",
    "#Convert the X_test data set to a numpy array\n",
    "\n",
    "X_test = np.array(X_test)\n",
    "\n",
    "#Reshape the data\n",
    "\n",
    "X_test = np.reshape(X_test, (X_test.shape[0], X_test.shape[1], 1))\n",
    "\n",
    "#Get the predicted scaled price\n",
    "\n",
    "pred_price = model.predict(X_test)\n",
    "\n",
    "#undo the scaling\n",
    "\n",
    "pred_price = scaler.inverse_transform(pred_price)\n",
    "\n",
    "print(\"Predicted Stock Price is: ₹\",pred_price[0][0])"
   ]
  },
  {
   "cell_type": "code",
   "execution_count": 43,
   "id": "47963e57",
   "metadata": {},
   "outputs": [
    {
     "name": "stdout",
     "output_type": "stream",
     "text": [
      "Date\n",
      "2022-06-10    138.880005\n",
      "Name: Close, dtype: float64\n"
     ]
    }
   ],
   "source": [
    "df_quote2=web.DataReader(stock_code, data_source='yahoo', start='2022-06-08', end=\"2022-06-10\")\n",
    "print(df_quote2[\"Close\"][-1:])"
   ]
  },
  {
   "cell_type": "code",
   "execution_count": 23,
   "id": "33dde12d",
   "metadata": {},
   "outputs": [
    {
     "data": {
      "text/html": [
       "<div>\n",
       "<style scoped>\n",
       "    .dataframe tbody tr th:only-of-type {\n",
       "        vertical-align: middle;\n",
       "    }\n",
       "\n",
       "    .dataframe tbody tr th {\n",
       "        vertical-align: top;\n",
       "    }\n",
       "\n",
       "    .dataframe thead th {\n",
       "        text-align: right;\n",
       "    }\n",
       "</style>\n",
       "<table border=\"1\" class=\"dataframe\">\n",
       "  <thead>\n",
       "    <tr style=\"text-align: right;\">\n",
       "      <th></th>\n",
       "      <th>Close</th>\n",
       "      <th>predictions</th>\n",
       "    </tr>\n",
       "    <tr>\n",
       "      <th>Date</th>\n",
       "      <th></th>\n",
       "      <th></th>\n",
       "    </tr>\n",
       "  </thead>\n",
       "  <tbody>\n",
       "    <tr>\n",
       "      <th>2020-03-18</th>\n",
       "      <td>61.667500</td>\n",
       "      <td>66.564209</td>\n",
       "    </tr>\n",
       "    <tr>\n",
       "      <th>2020-03-19</th>\n",
       "      <td>61.195000</td>\n",
       "      <td>65.280968</td>\n",
       "    </tr>\n",
       "    <tr>\n",
       "      <th>2020-03-20</th>\n",
       "      <td>57.310001</td>\n",
       "      <td>64.115799</td>\n",
       "    </tr>\n",
       "    <tr>\n",
       "      <th>2020-03-23</th>\n",
       "      <td>56.092499</td>\n",
       "      <td>62.672516</td>\n",
       "    </tr>\n",
       "    <tr>\n",
       "      <th>2020-03-24</th>\n",
       "      <td>61.720001</td>\n",
       "      <td>61.110596</td>\n",
       "    </tr>\n",
       "    <tr>\n",
       "      <th>...</th>\n",
       "      <td>...</td>\n",
       "      <td>...</td>\n",
       "    </tr>\n",
       "    <tr>\n",
       "      <th>2022-03-28</th>\n",
       "      <td>175.600006</td>\n",
       "      <td>165.206070</td>\n",
       "    </tr>\n",
       "    <tr>\n",
       "      <th>2022-03-29</th>\n",
       "      <td>178.960007</td>\n",
       "      <td>167.478912</td>\n",
       "    </tr>\n",
       "    <tr>\n",
       "      <th>2022-03-30</th>\n",
       "      <td>177.770004</td>\n",
       "      <td>169.717957</td>\n",
       "    </tr>\n",
       "    <tr>\n",
       "      <th>2022-03-31</th>\n",
       "      <td>174.610001</td>\n",
       "      <td>171.389755</td>\n",
       "    </tr>\n",
       "    <tr>\n",
       "      <th>2022-04-01</th>\n",
       "      <td>174.309998</td>\n",
       "      <td>172.064133</td>\n",
       "    </tr>\n",
       "  </tbody>\n",
       "</table>\n",
       "<p>516 rows × 2 columns</p>\n",
       "</div>"
      ],
      "text/plain": [
       "                 Close  predictions\n",
       "Date                               \n",
       "2020-03-18   61.667500    66.564209\n",
       "2020-03-19   61.195000    65.280968\n",
       "2020-03-20   57.310001    64.115799\n",
       "2020-03-23   56.092499    62.672516\n",
       "2020-03-24   61.720001    61.110596\n",
       "...                ...          ...\n",
       "2022-03-28  175.600006   165.206070\n",
       "2022-03-29  178.960007   167.478912\n",
       "2022-03-30  177.770004   169.717957\n",
       "2022-03-31  174.610001   171.389755\n",
       "2022-04-01  174.309998   172.064133\n",
       "\n",
       "[516 rows x 2 columns]"
      ]
     },
     "execution_count": 23,
     "metadata": {},
     "output_type": "execute_result"
    }
   ],
   "source": [
    "valid"
   ]
  },
  {
   "cell_type": "code",
   "execution_count": 44,
   "id": "1d3db3ff",
   "metadata": {},
   "outputs": [
    {
     "data": {
      "text/plain": [
       "Date\n",
       "2022-04-01    174.309998\n",
       "Name: Close, dtype: float64"
      ]
     },
     "execution_count": 44,
     "metadata": {},
     "output_type": "execute_result"
    }
   ],
   "source": [
    "valid.iloc[-1:,0]"
   ]
  },
  {
   "cell_type": "code",
   "execution_count": 47,
   "id": "286f2764",
   "metadata": {},
   "outputs": [
    {
     "data": {
      "text/html": [
       "<div>\n",
       "<style scoped>\n",
       "    .dataframe tbody tr th:only-of-type {\n",
       "        vertical-align: middle;\n",
       "    }\n",
       "\n",
       "    .dataframe tbody tr th {\n",
       "        vertical-align: top;\n",
       "    }\n",
       "\n",
       "    .dataframe thead th {\n",
       "        text-align: right;\n",
       "    }\n",
       "</style>\n",
       "<table border=\"1\" class=\"dataframe\">\n",
       "  <thead>\n",
       "    <tr style=\"text-align: right;\">\n",
       "      <th></th>\n",
       "      <th>Close</th>\n",
       "      <th>predictions</th>\n",
       "    </tr>\n",
       "    <tr>\n",
       "      <th>Date</th>\n",
       "      <th></th>\n",
       "      <th></th>\n",
       "    </tr>\n",
       "  </thead>\n",
       "  <tbody>\n",
       "    <tr>\n",
       "      <th>2020-03-18</th>\n",
       "      <td>61.667500</td>\n",
       "      <td>66.564209</td>\n",
       "    </tr>\n",
       "    <tr>\n",
       "      <th>2020-03-19</th>\n",
       "      <td>61.195000</td>\n",
       "      <td>65.280968</td>\n",
       "    </tr>\n",
       "    <tr>\n",
       "      <th>2020-03-20</th>\n",
       "      <td>57.310001</td>\n",
       "      <td>64.115799</td>\n",
       "    </tr>\n",
       "    <tr>\n",
       "      <th>2020-03-23</th>\n",
       "      <td>56.092499</td>\n",
       "      <td>62.672516</td>\n",
       "    </tr>\n",
       "    <tr>\n",
       "      <th>2020-03-24</th>\n",
       "      <td>61.720001</td>\n",
       "      <td>61.110596</td>\n",
       "    </tr>\n",
       "    <tr>\n",
       "      <th>...</th>\n",
       "      <td>...</td>\n",
       "      <td>...</td>\n",
       "    </tr>\n",
       "    <tr>\n",
       "      <th>2022-03-28</th>\n",
       "      <td>175.600006</td>\n",
       "      <td>165.206070</td>\n",
       "    </tr>\n",
       "    <tr>\n",
       "      <th>2022-03-29</th>\n",
       "      <td>178.960007</td>\n",
       "      <td>167.478912</td>\n",
       "    </tr>\n",
       "    <tr>\n",
       "      <th>2022-03-30</th>\n",
       "      <td>177.770004</td>\n",
       "      <td>169.717957</td>\n",
       "    </tr>\n",
       "    <tr>\n",
       "      <th>2022-03-31</th>\n",
       "      <td>174.610001</td>\n",
       "      <td>171.389755</td>\n",
       "    </tr>\n",
       "    <tr>\n",
       "      <th>2022-04-01</th>\n",
       "      <td>174.309998</td>\n",
       "      <td>172.064133</td>\n",
       "    </tr>\n",
       "  </tbody>\n",
       "</table>\n",
       "<p>516 rows × 2 columns</p>\n",
       "</div>"
      ],
      "text/plain": [
       "                 Close  predictions\n",
       "Date                               \n",
       "2020-03-18   61.667500    66.564209\n",
       "2020-03-19   61.195000    65.280968\n",
       "2020-03-20   57.310001    64.115799\n",
       "2020-03-23   56.092499    62.672516\n",
       "2020-03-24   61.720001    61.110596\n",
       "...                ...          ...\n",
       "2022-03-28  175.600006   165.206070\n",
       "2022-03-29  178.960007   167.478912\n",
       "2022-03-30  177.770004   169.717957\n",
       "2022-03-31  174.610001   171.389755\n",
       "2022-04-01  174.309998   172.064133\n",
       "\n",
       "[516 rows x 2 columns]"
      ]
     },
     "execution_count": 47,
     "metadata": {},
     "output_type": "execute_result"
    }
   ],
   "source": [
    "valid"
   ]
  },
  {
   "cell_type": "code",
   "execution_count": null,
   "id": "60096d54",
   "metadata": {},
   "outputs": [],
   "source": []
  }
 ],
 "metadata": {
  "kernelspec": {
   "display_name": "Python 3 (ipykernel)",
   "language": "python",
   "name": "python3"
  },
  "language_info": {
   "codemirror_mode": {
    "name": "ipython",
    "version": 3
   },
   "file_extension": ".py",
   "mimetype": "text/x-python",
   "name": "python",
   "nbconvert_exporter": "python",
   "pygments_lexer": "ipython3",
   "version": "3.9.7"
  }
 },
 "nbformat": 4,
 "nbformat_minor": 5
}
